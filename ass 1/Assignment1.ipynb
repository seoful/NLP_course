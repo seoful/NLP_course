{
  "cells": [
    {
      "cell_type": "markdown",
      "metadata": {
        "id": "RKboZnAdgrRM"
      },
      "source": [
        "# [NLP] Assignment 1: Tokenization\n",
        "\n",
        "In this assignment, you need to tokenize the text of the Twitter(X) users posts(tweets). The assignment consists of two tasks. When you finish all the tasks, create a GitHub repository for this assignment (you can use this repo later for the other assignments) and submit this notebook in the repository. Leave `requirements.txt` file if your code requires additional installations. Submit the link to the repository in Moodle.\n",
        "\n",
        "The [data](https://drive.google.com/file/d/15x_wPAflvYQ2Xh38iNQGrqUIWLj5l5Nw/view?usp=share_link) contains 5 files whereby each contains 44 tweets. Each tweet is separated by a newline."
      ]
    },
    {
      "cell_type": "markdown",
      "metadata": {
        "id": "aLDjjAvemUP_"
      },
      "source": [
        "## Task 1. Tokenize some tweets manually (20 points)\n",
        "\n",
        "As a first task you need to tokenize first 15 tweets from `file2` by hand. This will allow you to understand the problem from a linguistic point of view. The guidelines for tweet tokenization are as follows:\n",
        "\n",
        "- Each smiley is a separate token\n",
        "- Each hashtag is an individual token. Each user reference is an individual token\n",
        "- If a word has spaces between them then it is converted to a single token\n",
        "- All punctuations are individual tokens. This includes double-quotes and single quotes also\n",
        "- A URL is a single token\n",
        "\n",
        "Example of output\n",
        "\n",
        "    Input tweet\n",
        "    @xfranman Old age has made N A T O!\n",
        "\n",
        "    Tokenized tweet (separated by comma)\n",
        "    @xfranman , Old , age , has , made , NATO , !"
      ]
    },
    {
      "cell_type": "markdown",
      "metadata": {
        "id": "7KKKwTidnzUw"
      },
      "source": [
        "    1. Input tweet\n",
        "    Camping in Maine for the weekend. Hey Dad, Mama Loves YOU: http://www.mamapalooza.com\n",
        "    1. Tokenized tweet\n",
        "    Camping, in, Maine, for, the, weekend, ., Hey, Dad, ,, Mama, Loves, YOU, :, http://www.mamapalooza.com\n",
        "\n",
        "\n",
        "    2. Input tweet\n",
        "    Its american tradition bitch\n",
        "    2. Tokenized tweet\n",
        "    Its, american, tradition, bitch\n",
        "\n",
        "\n",
        "    3. Input tweet\n",
        "    @ThroughTheVoid They love it! The only pleasure they get in life. I actually do that. I'm sure I hear a tiny squeak... Then louder ones\n",
        "    3. Tokenized tweet\n",
        "    @ThroughTheVoid, They, love, it, !, The, only, pleasure, they, get, in, life, ., I, actually, do, that, ., ,I , ', m, sure, I, hear, a, tiny, squeak, ..., Then ,louder, ones\n",
        "\n",
        "\n",
        "    4. Input tweet\n",
        "    \" RT @latti: @AbsoHilare stop tweeting in church! Lol <--- \"\"I tweet because I'm happy, I tweet because I'm free\"\" LOL!\"\n",
        "    4. Tokenized tweet\n",
        "    \", RT, @latti, :, @AbsoHilare, stop, tweeting, in, church, !, Lol, <---, , \", \", I, tweet, because, I, ', m, happy, ,, I, tweet, because, , I, ', m, free, \", \", LOL, !, \"\n",
        "\n",
        "\n",
        "    5. Input tweet\n",
        "    Samsung Mini S2 portable HDD graced with colors that perfectly match your tacky beach gear: Sammy's done it aga.. http://tinyurl.com/lb5p6m\n",
        "    5. Tokenized tweet\n",
        "    Samsung, Mini, S2, portable, HDD, graced, with, colors, that, perfectly, match, your, tacky, beach, gear, :,Sammy, ', s, done, it, aga, ., ., http://tinyurl.com/lb5p6m\n",
        "\n",
        "\n",
        "    6. Input tweet\n",
        "    @dialloc congrats on finding your way over. it may be slow going at first. hang in there. it's kinda cool when u get up to speed.\n",
        "    6. Tokenized tweet\n",
        "    @dialloc, congrats, on, finding, your, way, over, ., it, may, be, slow, going, at, first, ., hang, in, there, ., it, ', s, kinda, cool, when, u, get, up, to, speed, .\n",
        "\n",
        "\n",
        "    7. Input tweet\n",
        "    iPhone activation delays continue, Apple offers $30 http://twt.gs/l3Ki\n",
        "    7. Tokenized tweet\n",
        "    iPhone, activation, delays, continue, ,, Apple, offers, , $, 30, http://twt.gs/l3Ki\n",
        "\n",
        "\n",
        "    8. Input tweet\n",
        "    RT @GoogleAtWork Gmail maximum attachment size now 25MB http://bit.ly/62mjw Nice!!!\n",
        "    8. Tokenized tweet\n",
        "    RT, @GoogleAtWork, Gmail, maximum, attachment, size, now, 25MB, http://bit.ly/62mjw, Nice, !, !, !\n",
        "\n",
        "\n",
        "    9. Input tweet\n",
        "    RT @acfou The Ads Won Awards for Crispin; But Did Nothing for Client BurgerKing's Sales/Marketshare - Big Surprise - http://ping.fm/vw8TI\n",
        "    9. Tokenized tweet\n",
        "    RT, @acfou, The, Ads, Won, Awards, for, Crispin, ;, But, Did, Nothing, for, Client, BurgerKing, ', s, Sales, /, Marketshare, -, Big, Surprise, -, http://ping.fm/vw8TI\n",
        "\n",
        "    10. Input tweet\n",
        "    Hey doll! Great I missed True Blood yday boo lol Rt @FrankBanuat78 @jhillstephens Hello Sunshine how are u today? :-)\n",
        "    10. Tokenized tweet\n",
        "    Hey, doll, !, Great, I, missed, True, Blood, yday, boo, lol, Rt, @FrankBanuat78, @jhillstephens, Hello, Sunshine, how, are, u, today, ?, :-)\n",
        "\n",
        "    11. Input tweet\n",
        "    Australian artist Pogo made these free songs primarily from sampled audio from Alice In Wonderland. http://www.last.fm/music/Pogo/Wonderland\n",
        "    11. Tokenized tweet\n",
        "    Australian, artist, Pogo, made, these, free, songs, primarily, from, sampled, audio, from, Alice, In, Wonderland, ., http://www.last.fm/music/Pogo/Wonderland\n",
        "\n",
        "\n",
        "    12. Input tweet\n",
        "    @mppritchard they wanted to sell all the preorders & then sell all of the ones they had in stock to those that just walked in. Can't do both\n",
        "    12. Tokenized tweet\n",
        "    @mppritchard, they, wanted, to, sell, all, the, preorders, &, then, sell, all, of, the, ones, they, had, in, stock, to, those, that, just, walked, in, ., ,Can, ', t, do, both\n",
        "\n",
        "\n",
        "    13. Input tweet\n",
        "    Incoming: Frightened Rabbit, Sept. 22 (Tucson): If Fat Cat Records is going to send three great bands from Scot.. http://tinyurl.com/nz6xcv\n",
        "    13. Tokenized tweet\n",
        "    Incoming, :, Frightened, Rabbit, ,, Sept, ., 22, , (, Tucson, ), :, If, Fat, Cat, Records, is, going, to, send, three, great, bands, from, Scot, ., ., http://tinyurl.com/nz6xcv\n",
        "\n",
        "\n",
        "    14. Input tweet\n",
        "    Hey @ginoandfran please greet philip! (GinoandFran live > http://ustre.am/2YyQ)\n",
        "    14. Tokenized tweet\n",
        "    Hey, @ginoandfran, please, greet, philip, !, (, GinoandFran, live, >, http://ustre.am/2YyQ, )\n",
        "\n",
        "\n",
        "    15. Input tweet\n",
        "    Ik weet niet wie er achter de T-Mobile iPhone Twitter zit maar ik vind het niet echt 'corporate' taalgebruik... Best vreemd eigenlijk\n",
        "    15. Tokenized tweet\n",
        "    Ik, weet, niet, wie, er, achter, de, T, -, Mobile, iPhone, Twitter, zit, maar, ik, vind, het, niet, echt, ', corporate, ', taalgebruik, ., ., ., Best, vreemd, eigenlijk\n",
        "\n"
      ]
    },
    {
      "cell_type": "markdown",
      "metadata": {
        "id": "-2J2AD2nmUhi"
      },
      "source": [
        "## Task 2. Implement [Byte-Pair Encoding(BPE)](https://arxiv.org/pdf/1508.07909.pdf) Tokenizer (80 points)\n",
        "\n",
        "### Task 2.1. Implementation (60 points)\n",
        "\n",
        "Implement the tokenizer as the BPETokenizer class:\n",
        "* Implement `train` method that learns merges and builds the vocabulary of the specified `vocab_size` (25 points).\n",
        "* Implement `tokenize` method that should tokenize the text according to the learnt merges (25 points).\n",
        "\n",
        "Your code should have docstrings and comments (10 points)."
      ]
    },
    {
      "cell_type": "code",
      "execution_count": 48,
      "metadata": {},
      "outputs": [],
      "source": [
        "from typing import List\n",
        "import re\n",
        "from collections import defaultdict\n",
        "\n",
        "\n",
        "class BPETokenizer:\n",
        "\n",
        "    def __init__(self, vocab_size: int) -> None:\n",
        "        self.vocab_size = vocab_size\n",
        "\n",
        "    def pre_tokenize(self, string: str):\n",
        "        string = string.lower()\n",
        "        subtokens = re.findall(r\"[#@\\w]+|[!\\\"$%&'()*+,-./:;<=>?[\\]^_`{|}~]\", string)\n",
        "        return subtokens\n",
        "    \n",
        "    \n",
        "    def init_vocab(self, words):\n",
        "        self.word_freqs = defaultdict(int)\n",
        "\n",
        "        for word in words:\n",
        "            self.word_freqs[word] += 1\n",
        "\n",
        "        self.vocab = []\n",
        "\n",
        "        for word in self.word_freqs.keys():\n",
        "            for letter in word:\n",
        "                if letter not in self.vocab:\n",
        "                    self.vocab.append(letter)\n",
        "        self.vocab.sort()\n",
        "\n",
        "    def compute_pair_freqs(self,splits):\n",
        "        pair_freqs = defaultdict(int)\n",
        "        for word, freq in self.word_freqs.items():\n",
        "            split = splits[word]\n",
        "            if len(split) == 1:\n",
        "                continue\n",
        "            for i in range(len(split) - 1):\n",
        "                pair = (split[i], split[i + 1])\n",
        "                pair_freqs[pair] += freq\n",
        "        return pair_freqs\n",
        "\n",
        "    def merge_pair(self, a, b, splits):\n",
        "        for word in self.word_freqs:\n",
        "            split = splits[word]\n",
        "            if len(split) == 1:\n",
        "                continue\n",
        "\n",
        "            i = 0\n",
        "            while i < len(split) - 1:\n",
        "                if split[i] == a and split[i + 1] == b:\n",
        "                    split = split[:i] + [a + b] + split[i + 2 :]\n",
        "                else:\n",
        "                    i += 1\n",
        "            splits[word] = split\n",
        "        return splits\n",
        "\n",
        "    def train(self, corpus: List[str]) -> None:\n",
        "        corpus_pretokenized = []\n",
        "        for line in corpus:\n",
        "            corpus_pretokenized.extend(self.pre_tokenize(line))\n",
        "\n",
        "        self.init_vocab(corpus_pretokenized)\n",
        "        splits = {word: [c for c in word] for word in self.word_freqs.keys()}\n",
        "        self.merges = defaultdict(int)\n",
        "        while len(self.vocab) < self.vocab_size:\n",
        "            pair_freqs = self.compute_pair_freqs(splits)\n",
        "            best_pair = \"\"\n",
        "            max_freq = None\n",
        "            for pair, freq in pair_freqs.items():\n",
        "                if max_freq is None or max_freq < freq:\n",
        "                    best_pair = pair\n",
        "                    max_freq = freq\n",
        "            splits = self.merge_pair(*best_pair, splits)\n",
        "            self.merges[best_pair] = best_pair[0] + best_pair[1]\n",
        "            self.vocab.append(best_pair[0] + best_pair[1])\n",
        "\n",
        "    def tokenize(self, text: str) -> List[str]:\n",
        "        pre_tokenized_text = self.pre_tokenize(text)\n",
        "        splits = [[l for l in word] for word in pre_tokenized_text]\n",
        "        for pair, merge in self.merges.items():\n",
        "            for idx, split in enumerate(splits):\n",
        "                i = 0\n",
        "                while i < len(split) - 1:\n",
        "                    if split[i] == pair[0] and split[i + 1] == pair[1]:\n",
        "                        split = split[:i] + [merge] + split[i + 2 :]\n",
        "                    else:\n",
        "                        i += 1\n",
        "                splits[idx] = split\n",
        "\n",
        "        return sum(splits, [])"
      ]
    },
    {
      "cell_type": "code",
      "execution_count": 49,
      "metadata": {},
      "outputs": [],
      "source": [
        "corpus = []\n",
        "\n",
        "for i in range(1, 6):\n",
        "    with open(f'data/file{i}') as file:\n",
        "        corpus.extend(file.readlines())\n",
        "        \n",
        "tokenizer = BPETokenizer(1000)\n",
        "tokenizer.train(corpus)"
      ]
    },
    {
      "cell_type": "markdown",
      "metadata": {},
      "source": [
        "### Task 2.2. Analysis on Tweets Dataset (10 points)\n",
        "\n",
        "Train the BPE tokenizer on the tweets dataset. Try to tokenize the tweets with the tokenizer of different `vocab_size`. For example, train the BPE tokenizer with `vocab_size` of [base_vocab_size, 250, 500, 750, 1000]. Plot the dependency of the average length of the tokenized tweet by `vocab_size` to analyze how `vocab_size` affects the length of the tokenized tweet on average. Tell what `vocab_size` is preferrable and why."
      ]
    },
    {
      "cell_type": "code",
      "execution_count": 57,
      "metadata": {},
      "outputs": [
        {
          "data": {
            "image/png": "[encoded data removed]",
            "text/plain": [
              "<Figure size 640x480 with 1 Axes>"
            ]
          },
          "metadata": {},
          "output_type": "display_data"
        }
      ],
      "source": [
        "import matplotlib.pyplot as plt\n",
        "import numpy as np\n",
        "import math\n",
        "\n",
        "vocab_sizes = [250,500,750,1000]\n",
        "\n",
        "avg_lens = []\n",
        "\n",
        "for vocab_size in vocab_sizes:\n",
        "    tokenizer = BPETokenizer(vocab_size)\n",
        "    tokenizer.train(corpus)\n",
        "    lens = [len(tokenizer.tokenize(text)) for text in corpus]\n",
        "    avg_lens.append(np.average(lens))\n",
        "\n",
        "plt.plot(vocab_sizes, avg_lens)\n",
        "plt.xlabel('vocab_size')\n",
        "plt.ylabel('avg tokenized tweet length')\n",
        "plt.show()"
      ]
    },
    {
      "cell_type": "markdown",
      "metadata": {},
      "source": [
        "Bigeer vocab size is better for the model as such tokenizer makes more semantical sense by capturing the actual word or subword. Also, in BPE realization it will more probably capture the words or subwords rather than standalone symbols."
      ]
    },
    {
      "cell_type": "markdown",
      "metadata": {},
      "source": [
        "### Task 2.3. Analysis on Dataset of Different Language (10 points)\n",
        "\n",
        "Find a small dataset of texts in a language other than English. The dataset size should be not greater than several megabytes.\n",
        "\n",
        "Train the BPE tokenizer on the dataset that you found. Try to tokenize the sentences from this dataset with the tokenizer of different `vocab_size`. Plot the dependency of the average length of the tokenized sentence by `vocab_size` to analyze how `vocab_size` affects the length of the tokenized sentence on average.\n",
        "\n",
        "Tell how how the average length of the tokenized sentence differs from the average length of the tokenized tweet. Explain why. "
      ]
    },
    {
      "cell_type": "code",
      "execution_count": null,
      "metadata": {},
      "outputs": [],
      "source": []
    }
  ],
  "metadata": {
    "colab": {
      "provenance": [],
      "toc_visible": true
    },
    "kernelspec": {
      "display_name": "Python 3",
      "name": "python3"
    },
    "language_info": {
      "codemirror_mode": {
        "name": "ipython",
        "version": 3
      },
      "file_extension": ".py",
      "mimetype": "text/x-python",
      "name": "python",
      "nbconvert_exporter": "python",
      "pygments_lexer": "ipython3",
      "version": "3.12.1"
    }
  },
  "nbformat": 4,
  "nbformat_minor": 0
}
